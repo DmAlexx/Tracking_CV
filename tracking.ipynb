{
 "cells": [
  {
   "cell_type": "code",
   "execution_count": 2,
   "metadata": {},
   "outputs": [],
   "source": [
    "import cv2\n",
    "import numpy as np\n",
    "from matplotlib import pyplot as plt\n",
    "plt.rcParams['figure.figsize'] = [15, 10]"
   ]
  },
  {
   "cell_type": "code",
   "execution_count": 3,
   "metadata": {},
   "outputs": [],
   "source": [
    "def initialize_tracker(tracker_type):\n",
    "    #Read the video\n",
    "    video = cv2.VideoCapture('blueCarDetected.mp4')\n",
    "    \n",
    "    #Read first video frame\n",
    "    ret, source = video.read()\n",
    "    assert ret\n",
    "    \n",
    "    #Convert to gray scale\n",
    "    src_gray = cv2.cvtColor(source, cv2.COLOR_BGR2GRAY)\n",
    "    \n",
    "    #Create tracker\n",
    "    if tracker_type == \"KCF\":\n",
    "        tracker = cv2.TrackerKCF_create()\n",
    "    elif tracker_type == \"CSRT\":\n",
    "        tracker = cv2.TrackerCSRT_create()\n",
    "\n",
    "    #Choose tracking object and init tracker\n",
    "    bbox = cv2.selectROI(\"Select Object\", source, fromCenter=False, showCrosshair=True)\n",
    "    tracker.init(source, bbox)\n",
    "    \n",
    "    video.release()\n",
    "    return tracker"
   ]
  },
  {
   "cell_type": "code",
   "execution_count": 4,
   "metadata": {},
   "outputs": [],
   "source": [
    "def track_and_display(tracker):\n",
    "    video = cv2.VideoCapture('blueCarDetected.mp4')\n",
    "    \n",
    "    while True:\n",
    "        #read video frame\n",
    "        ret, source = video.read()\n",
    "        if not ret:\n",
    "            break\n",
    "        \n",
    "        #update tracker for current frame\n",
    "        ret, bbox = tracker.update(source)\n",
    "        \n",
    "        #draw rectangle around the tracking obj\n",
    "        if ret:\n",
    "            (x, y, w, h) = [int(i) for i in bbox]\n",
    "            cv2.rectangle(source, (x, y), (x + w, y + h), (0, 255, 0), 2)\n",
    "        \n",
    "        #show video\n",
    "        cv2.imshow(\"Tracking\", source)\n",
    "        cv2.waitKey(1)\n",
    "    \n",
    "    #release video and close windows openCV\n",
    "    video.release()\n",
    "    cv2.destroyAllWindows()"
   ]
  },
  {
   "cell_type": "code",
   "execution_count": 6,
   "metadata": {},
   "outputs": [
    {
     "name": "stdout",
     "output_type": "stream",
     "text": [
      "Select a ROI and then press SPACE or ENTER button!\n",
      "Cancel the selection process by pressing c button!\n"
     ]
    }
   ],
   "source": [
    "#Using KCF tracker\n",
    "tracker = initialize_tracker(\"KCF\")\n",
    "track_and_display(tracker)"
   ]
  },
  {
   "cell_type": "code",
   "execution_count": 7,
   "metadata": {},
   "outputs": [
    {
     "name": "stdout",
     "output_type": "stream",
     "text": [
      "Select a ROI and then press SPACE or ENTER button!\n",
      "Cancel the selection process by pressing c button!\n"
     ]
    }
   ],
   "source": [
    "#Using CSRT tracker\n",
    "tracker = initialize_tracker(\"CSRT\")\n",
    "track_and_display(tracker)"
   ]
  }
 ],
 "metadata": {
  "kernelspec": {
   "display_name": "CV",
   "language": "python",
   "name": "python3"
  },
  "language_info": {
   "codemirror_mode": {
    "name": "ipython",
    "version": 3
   },
   "file_extension": ".py",
   "mimetype": "text/x-python",
   "name": "python",
   "nbconvert_exporter": "python",
   "pygments_lexer": "ipython3",
   "version": "3.11.6"
  }
 },
 "nbformat": 4,
 "nbformat_minor": 2
}
